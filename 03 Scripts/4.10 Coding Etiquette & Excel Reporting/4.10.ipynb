{
 "cells": [
  {
   "cell_type": "markdown",
   "id": "74a418b8",
   "metadata": {},
   "source": [
    "# Contents\n",
    "Install Libraries\n",
    "\n",
    "Copy data to excel"
   ]
  },
  {
   "cell_type": "code",
   "execution_count": 1,
   "id": "83ae76a0",
   "metadata": {},
   "outputs": [],
   "source": [
    "#install libraries\n",
    "\n",
    "import pandas as pd\n",
    "import numpy as np\n",
    "import os\n",
    "import matplotlib.pyplot as plt\n",
    "import seaborn as sns\n",
    "import scipy"
   ]
  },
  {
   "cell_type": "code",
   "execution_count": 2,
   "id": "4b03d0e2",
   "metadata": {},
   "outputs": [],
   "source": [
    "path = r'C:\\Users\\Samantha Ramos\\Desktop\\Instacart Basket Analysis 12-16-2023'"
   ]
  },
  {
   "cell_type": "code",
   "execution_count": 4,
   "id": "d182c87a",
   "metadata": {},
   "outputs": [],
   "source": [
    "ords_prods_merge = pd.read_pickle(os.path.join(path, '02 Data','Prepared Data', 'cust_orders_products_all.pkl'))"
   ]
  },
  {
   "cell_type": "code",
   "execution_count": 5,
   "id": "96df54f7",
   "metadata": {},
   "outputs": [],
   "source": [
    "#confirm that missing values were caused by the fact that there can’t be any days before a first orde\n",
    "crosstab = pd.crosstab(ords_prods_merge['days_since_prior_order'], ords_prods_merge['order_number'], dropna = False)"
   ]
  },
  {
   "cell_type": "code",
   "execution_count": 6,
   "id": "23896da3",
   "metadata": {},
   "outputs": [],
   "source": [
    "crosstab.to_clipboard()"
   ]
  },
  {
   "cell_type": "code",
   "execution_count": null,
   "id": "55fb771c",
   "metadata": {},
   "outputs": [],
   "source": []
  }
 ],
 "metadata": {
  "kernelspec": {
   "display_name": "Python 3 (ipykernel)",
   "language": "python",
   "name": "python3"
  },
  "language_info": {
   "codemirror_mode": {
    "name": "ipython",
    "version": 3
   },
   "file_extension": ".py",
   "mimetype": "text/x-python",
   "name": "python",
   "nbconvert_exporter": "python",
   "pygments_lexer": "ipython3",
   "version": "3.11.5"
  }
 },
 "nbformat": 4,
 "nbformat_minor": 5
}
