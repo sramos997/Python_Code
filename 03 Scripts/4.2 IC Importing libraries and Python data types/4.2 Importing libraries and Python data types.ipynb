{
 "cells": [
  {
   "cell_type": "markdown",
   "id": "761b6222",
   "metadata": {},
   "source": [
    "# Contents\n",
    "Import Libraries\n",
    "\n",
    "Check Data Types\n"
   ]
  },
  {
   "cell_type": "markdown",
   "id": "545c68ae",
   "metadata": {},
   "source": [
    "# 01. Importing Libraries"
   ]
  },
  {
   "cell_type": "code",
   "execution_count": 1,
   "id": "e285a4fc",
   "metadata": {},
   "outputs": [],
   "source": [
    "# Import libraries\n",
    "import pandas as pd\n",
    "import numpy as np\n",
    "import os"
   ]
  },
  {
   "cell_type": "markdown",
   "id": "e63a6314",
   "metadata": {},
   "source": [
    "# 02. Data Types"
   ]
  },
  {
   "cell_type": "code",
   "execution_count": 21,
   "id": "7f04e58f",
   "metadata": {},
   "outputs": [],
   "source": [
    "x=50\n",
    "y=25"
   ]
  },
  {
   "cell_type": "code",
   "execution_count": 22,
   "id": "672bafbf",
   "metadata": {},
   "outputs": [
    {
     "data": {
      "text/plain": [
       "100"
      ]
     },
     "execution_count": 22,
     "metadata": {},
     "output_type": "execute_result"
    }
   ],
   "source": [
    "x*2"
   ]
  },
  {
   "cell_type": "code",
   "execution_count": 24,
   "id": "7de18b5e",
   "metadata": {},
   "outputs": [
    {
     "data": {
      "text/plain": [
       "100"
      ]
     },
     "execution_count": 24,
     "metadata": {},
     "output_type": "execute_result"
    }
   ],
   "source": [
    "y*2+x"
   ]
  },
  {
   "cell_type": "code",
   "execution_count": 25,
   "id": "039efa5a",
   "metadata": {},
   "outputs": [
    {
     "data": {
      "text/plain": [
       "100"
      ]
     },
     "execution_count": 25,
     "metadata": {},
     "output_type": "execute_result"
    }
   ],
   "source": [
    "y+x+25"
   ]
  },
  {
   "cell_type": "code",
   "execution_count": 26,
   "id": "b286c3db",
   "metadata": {},
   "outputs": [],
   "source": [
    "a=3.14\n",
    "b=5.67"
   ]
  },
  {
   "cell_type": "code",
   "execution_count": 27,
   "id": "b042b24e",
   "metadata": {},
   "outputs": [
    {
     "data": {
      "text/plain": [
       "1.805732484076433"
      ]
     },
     "execution_count": 27,
     "metadata": {},
     "output_type": "execute_result"
    }
   ],
   "source": [
    "b/a"
   ]
  },
  {
   "cell_type": "code",
   "execution_count": 28,
   "id": "c6a31708",
   "metadata": {},
   "outputs": [],
   "source": [
    "c= \"Happy \"\n",
    "d= \"Birthday!\""
   ]
  },
  {
   "cell_type": "code",
   "execution_count": 29,
   "id": "3510308a",
   "metadata": {},
   "outputs": [
    {
     "data": {
      "text/plain": [
       "'Happy Birthday!'"
      ]
     },
     "execution_count": 29,
     "metadata": {},
     "output_type": "execute_result"
    }
   ],
   "source": [
    "c+d"
   ]
  },
  {
   "cell_type": "code",
   "execution_count": 30,
   "id": "6edbb6f8",
   "metadata": {},
   "outputs": [],
   "source": [
    "e= \"It is raining today. \"\n",
    "f= \"I love to watch scary movies when it rains.\""
   ]
  },
  {
   "cell_type": "code",
   "execution_count": 31,
   "id": "149e2ea3",
   "metadata": {},
   "outputs": [
    {
     "data": {
      "text/plain": [
       "'It is raining today. I love to watch scary movies when it rains.'"
      ]
     },
     "execution_count": 31,
     "metadata": {},
     "output_type": "execute_result"
    }
   ],
   "source": [
    "e+f"
   ]
  },
  {
   "cell_type": "code",
   "execution_count": 32,
   "id": "be783540",
   "metadata": {},
   "outputs": [
    {
     "data": {
      "text/plain": [
       "'Happy Happy Happy Happy Happy Happy Happy Happy Happy Happy Happy Happy Happy Happy Happy Happy Happy Happy Happy Happy Happy Happy Happy Happy Happy Happy Happy Happy Happy Happy Happy Happy Happy Happy Happy Happy Happy Happy Happy Happy Happy Happy Happy Happy Happy Happy Happy Happy Happy Happy Happy Happy Happy Happy Happy Happy Happy Happy Happy Happy Happy Happy Happy Happy Happy Happy Happy Happy Happy Happy Happy Happy Happy Happy Happy Happy Happy Happy Happy Happy Happy Happy Happy Happy Happy Happy Happy Happy Happy Happy Happy Happy Happy Happy Happy Happy Happy Happy Happy Happy '"
      ]
     },
     "execution_count": 32,
     "metadata": {},
     "output_type": "execute_result"
    }
   ],
   "source": [
    "c*100"
   ]
  },
  {
   "cell_type": "code",
   "execution_count": null,
   "id": "9c161da3",
   "metadata": {},
   "outputs": [],
   "source": []
  }
 ],
 "metadata": {
  "kernelspec": {
   "display_name": "Python 3 (ipykernel)",
   "language": "python",
   "name": "python3"
  },
  "language_info": {
   "codemirror_mode": {
    "name": "ipython",
    "version": 3
   },
   "file_extension": ".py",
   "mimetype": "text/x-python",
   "name": "python",
   "nbconvert_exporter": "python",
   "pygments_lexer": "ipython3",
   "version": "3.11.5"
  }
 },
 "nbformat": 4,
 "nbformat_minor": 5
}
